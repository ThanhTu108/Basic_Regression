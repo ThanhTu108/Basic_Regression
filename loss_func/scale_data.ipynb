{
 "cells": [
  {
   "cell_type": "markdown",
   "id": "3f456231",
   "metadata": {},
   "source": [
    "# data scaling"
   ]
  },
  {
   "cell_type": "code",
   "execution_count": 75,
   "id": "37b9d5a7",
   "metadata": {},
   "outputs": [],
   "source": [
    "import numpy as np\n",
    "import matplotlib.pyplot as plt\n",
    "import random"
   ]
  },
  {
   "cell_type": "code",
   "execution_count": 76,
   "id": "fe0f343a",
   "metadata": {},
   "outputs": [],
   "source": [
    "def scaling(data1, data2, data3):\n",
    "    data = data1 + data2 + data3\n",
    "    max_value = max(data)\n",
    "    min_value = min(data)\n",
    "    mean_value = sum(data) / len(data)\n",
    "\n",
    "    data1 = [(x - mean_value)/ (max_value - min_value) for x in data1]\n",
    "    data2 = [(x - mean_value)/ (max_value - min_value) for x in data2]\n",
    "    data3 = [(x - mean_value)/ (max_value - min_value) for x in data3]\n",
    "\n",
    "    return (data1, data2, data3), (mean_value, max_value, min_value)"
   ]
  },
  {
   "cell_type": "code",
   "execution_count": 77,
   "id": "641ac6f2",
   "metadata": {},
   "outputs": [
    {
     "name": "stdout",
     "output_type": "stream",
     "text": [
      "[-0.5694444444444445, 0.4305555555555555, 0.09722222222222217, -0.23611111111111116] [0.26388888888888884, -0.40277777777777785, 0.4305555555555555, -0.06944444444444449] [0.4305555555555555, -0.40277777777777785, -0.06944444444444449, 0.09722222222222217]\n",
      "4.416666666666667 7 1\n"
     ]
    }
   ],
   "source": [
    "data1 = [1,7,5,3]\n",
    "data2 = [6,2,7,4]\n",
    "data3 = [7,2,4,5]\n",
    "(data1, data2, data3), (mean_value, max_value, min_value) = scaling(data1, data2, data3)\n",
    "print(data1, data2, data3)\n",
    "print(mean_value, max_value, min_value)\n"
   ]
  },
  {
   "cell_type": "code",
   "execution_count": 78,
   "id": "67a37f8c",
   "metadata": {},
   "outputs": [
    {
     "name": "stdout",
     "output_type": "stream",
     "text": [
      "[0.5504267881241568, -0.07575404858299574, -0.16785931174089047, 0.285244601889339, 0.3840975033738194]\n",
      "[-0.09835863697705782, -0.09329790823211856, -0.07103070175438575, -0.08655026990553286, -0.1894517543859647]\n",
      "[0.007579284750337614, -0.07372975708502003, 0.007916666666666879, -0.028520580296895866, -0.028857962213225157]\n",
      "66.95349999999993 296.4 0.0\n"
     ]
    }
   ],
   "source": [
    "data = np.genfromtxt('data_scale.csv', delimiter=',', skip_header=1)\n",
    "N = len(data)\n",
    "tv_data = data[:, 0].tolist()\n",
    "radio_data = data[:, 1].tolist()\n",
    "newspaper_data = data[:, 2].tolist()\n",
    "sales_data = data[:, 3].tolist()\n",
    "(tv_data, radio_data, newspaper_data), (mean_v, max_v, min_v) = scaling(tv_data, \n",
    "                                                                    radio_data, \n",
    "                                                                    newspaper_data)\n",
    "print(tv_data[:5])\n",
    "print(radio_data[:5])\n",
    "print(newspaper_data[:5])\n",
    "print(mean_v, max_v, min_v)"
   ]
  },
  {
   "cell_type": "code",
   "execution_count": 79,
   "id": "bdf8a196",
   "metadata": {},
   "outputs": [],
   "source": [
    "# compute output and loss\n",
    "def predict(x1, x2, x3, w1, w2, w3, b):\n",
    "    return w1*x1 + w2*x2 + w3*x3 + b\n",
    "\n",
    "def compute_loss(y_hat, y):\n",
    "    return (y_hat - y)**2\n",
    "\n",
    "# compute gradient\n",
    "def compute_gradient_wi(xi, y, y_hat):\n",
    "    dl_dwi = 2*xi*(y_hat-y)\n",
    "    return dl_dwi \n",
    "\n",
    "def compute_gradient_b(y, y_hat):\n",
    "    dl_db = 2*(y_hat-y)\n",
    "    return dl_db\n",
    "\n",
    "# update weights\n",
    "def update_weight_wi(wi, dl_dwi, lr):\n",
    "    wi = wi - lr*dl_dwi\n",
    "    return wi\n",
    "    \n",
    "def update_weight_b(b, dl_db, lr):    \n",
    "    b  = b - lr*dl_db    \n",
    "    return b"
   ]
  },
  {
   "cell_type": "code",
   "execution_count": 80,
   "id": "ca722391",
   "metadata": {},
   "outputs": [
    {
     "name": "stdout",
     "output_type": "stream",
     "text": [
      "-0.5129756261118077 0.5981982206572616 -0.5748852316878967 0\n"
     ]
    }
   ],
   "source": [
    "def initialize_param():\n",
    "    w1 = random.gauss(mu=0.0, sigma=1.0)\n",
    "    w2 = random.gauss(mu=0.0, sigma=1.0)\n",
    "    w3 = random.gauss(mu=0.0, sigma=1.0)\n",
    "    b = 0\n",
    "    return w1, w2, w3, b\n",
    "# initialize model's parameters\n",
    "w1, w2, w3, b = initialize_param()\n",
    "print(w1, w2, w3, b)"
   ]
  },
  {
   "cell_type": "code",
   "execution_count": 81,
   "id": "c20bf413",
   "metadata": {},
   "outputs": [],
   "source": [
    "epoch_max = 50\n",
    "lr = 0.01\n",
    "losses = []\n",
    "\n",
    "for epoch in range(epoch_max):\n",
    "    for i in range(N):\n",
    "        \n",
    "        # get a sample\n",
    "        x1 = tv_data[i]\n",
    "        x2 = radio_data[i]\n",
    "        x3 = newspaper_data[i]\n",
    "        y  = sales_data[i]\n",
    "        \n",
    "        # compute output \n",
    "        y_hat = predict(x1, x2, x3, w1, w2, w3, b)\n",
    "        \n",
    "        # compute loss\n",
    "        loss = compute_loss(y, y_hat)\n",
    "\n",
    "        # compute gradient w1, w2, w3, b\n",
    "        dl_dw1 = compute_gradient_wi(x1, y, y_hat)\n",
    "        dl_dw2 = compute_gradient_wi(x2, y, y_hat)\n",
    "        dl_dw3 = compute_gradient_wi(x3, y, y_hat)\n",
    "        dl_db  = compute_gradient_b(y, y_hat)\n",
    "\n",
    "\n",
    "        # update parameters\n",
    "        w1 = update_weight_wi(w1, dl_dw1, lr)\n",
    "        w2 = update_weight_wi(w2, dl_dw2, lr)\n",
    "        w3 = update_weight_wi(w3, dl_dw3, lr)\n",
    "        b  = update_weight_b(b, dl_db, lr)\n",
    "\n",
    "        # logging\n",
    "        losses.append(loss) "
   ]
  },
  {
   "cell_type": "code",
   "execution_count": 82,
   "id": "d6bac8fd",
   "metadata": {},
   "outputs": [
    {
     "data": {
      "image/png": "[encoded data removed]",
      "text/plain": [
       "<Figure size 640x480 with 1 Axes>"
      ]
     },
     "metadata": {},
     "output_type": "display_data"
    }
   ],
   "source": [
    "plt.plot(losses)\n",
    "plt.show()"
   ]
  }
 ],
 "metadata": {
  "kernelspec": {
   "display_name": ".venv_3.10",
   "language": "python",
   "name": "python3"
  },
  "language_info": {
   "codemirror_mode": {
    "name": "ipython",
    "version": 3
   },
   "file_extension": ".py",
   "mimetype": "text/x-python",
   "name": "python",
   "nbconvert_exporter": "python",
   "pygments_lexer": "ipython3",
   "version": "3.10.9"
  }
 },
 "nbformat": 4,
 "nbformat_minor": 5
}
