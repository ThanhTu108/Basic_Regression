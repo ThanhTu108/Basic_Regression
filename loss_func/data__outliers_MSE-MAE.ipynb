{
 "cells": [
  {
   "cell_type": "markdown",
   "id": "02e59b76",
   "metadata": {},
   "source": [
    "# MAE"
   ]
  },
  {
   "cell_type": "markdown",
   "id": "29a5dd57",
   "metadata": {},
   "source": [
    "## import libraries"
   ]
  },
  {
   "cell_type": "code",
   "execution_count": 29,
   "id": "be2ce4c7",
   "metadata": {},
   "outputs": [],
   "source": [
    "import numpy as np\n",
    "import matplotlib.pyplot as plt"
   ]
  },
  {
   "cell_type": "markdown",
   "id": "59790c5a",
   "metadata": {},
   "source": [
    "## dataset"
   ]
  },
  {
   "cell_type": "code",
   "execution_count": 30,
   "id": "649a9d43",
   "metadata": {},
   "outputs": [
    {
     "name": "stdout",
     "output_type": "stream",
     "text": [
      "areas: [6.7, 4.6, 3.5, 5.5, 4.0]\n",
      "prices: [8.6, 5.9, 4.6, 6.7, 7.2]\n",
      "data_size: 5\n"
     ]
    }
   ],
   "source": [
    "data = np.genfromtxt('data_outlier.csv', delimiter=',')\n",
    "\n",
    "areas = data[:, 0].tolist()\n",
    "prices = data[:, 1].tolist()\n",
    "N = len(x_data)\n",
    "print(f'areas: {areas}')\n",
    "print(f'prices: {prices}')\n",
    "print(f'data_size: {N}')"
   ]
  },
  {
   "cell_type": "markdown",
   "id": "9d51624a",
   "metadata": {},
   "source": [
    "## functions"
   ]
  },
  {
   "cell_type": "code",
   "execution_count": 31,
   "id": "aadc592c",
   "metadata": {},
   "outputs": [],
   "source": [
    "def predict(x, w, b):\n",
    "    return x*w +b\n",
    "\n",
    "def compute_loss(y_hat, y):\n",
    "    return abs(y_hat - y)\n",
    "\n",
    "def compute_gradient(y_hat, y, x):\n",
    "    dw = x*(y_hat - y) / abs(y_hat - y)\n",
    "    db = (y_hat - y) / abs(y_hat - y)\n",
    "    return (dw, db)\n",
    "\n",
    "def update_weights(w, b, dw, db, lr):\n",
    "    w_new = w - lr*dw\n",
    "    b_new= b - lr*db\n",
    "    return (w_new, b_new)"
   ]
  },
  {
   "cell_type": "markdown",
   "id": "9697f3db",
   "metadata": {},
   "source": [
    "\n",
    "## train and init weights"
   ]
  },
  {
   "cell_type": "code",
   "execution_count": 32,
   "id": "e91a6eeb",
   "metadata": {},
   "outputs": [],
   "source": [
    "# init weights\n",
    "b = 0.04\n",
    "w = -0.34\n",
    "lr = 0.01\n",
    "\n",
    "# parameters\n",
    "epoch_max = 20\n",
    "losses = []"
   ]
  },
  {
   "cell_type": "code",
   "execution_count": 33,
   "id": "950ed355",
   "metadata": {},
   "outputs": [
    {
     "name": "stdout",
     "output_type": "stream",
     "text": [
      "1.1820000000000006 0.34000000000000014\n"
     ]
    }
   ],
   "source": [
    "# train\n",
    "for epoch in range(epoch_max):\n",
    "    for i in range(N):\n",
    "        x = x_data[i]\n",
    "        y = y_data[i]\n",
    "\n",
    "        #predict \n",
    "        y_hat = predict(x, w, b)\n",
    "        # compute loss\n",
    "        loss = compute_loss(y_hat, y)\n",
    "        losses.append(loss)\n",
    "\n",
    "        # compute gradients\n",
    "        (dw, db) = compute_gradient(y_hat, y, x)\n",
    "\n",
    "        # update weights\n",
    "        (w, b) = update_weights(w, b, dw, db, lr)\n",
    "\n",
    "print(w, b)"
   ]
  },
  {
   "cell_type": "markdown",
   "id": "59411199",
   "metadata": {},
   "source": [
    "## visualization"
   ]
  },
  {
   "cell_type": "code",
   "execution_count": 34,
   "id": "358605ac",
   "metadata": {},
   "outputs": [],
   "source": [
    "w, b= 1.1820000000000006, 0.34000000000000014"
   ]
  },
  {
   "cell_type": "code",
   "execution_count": 44,
   "id": "cdfe07d6",
   "metadata": {},
   "outputs": [
    {
     "data": {
      "text/plain": [
       "Text(0, 0.5, 'prices')"
      ]
     },
     "execution_count": 44,
     "metadata": {},
     "output_type": "execute_result"
    },
    {
     "data": {
      "image/png": "[encoded data removed]",
      "text/plain": [
       "<Figure size 640x480 with 1 Axes>"
      ]
     },
     "metadata": {},
     "output_type": "display_data"
    }
   ],
   "source": [
    "x_data = range(2,8)\n",
    "y_data = [x*w + b for x in x_data]\n",
    "plt.plot(x_data, y_data, 'r')\n",
    "\n",
    "plt.scatter(areas, prices, color = 'b')\n",
    "\n",
    "#>>>>>>>>>>>>>>>>>>>>>>>>>\n",
    "plt.title(\"Mean absolute error (MAE)\")\n",
    "plt.xlabel('areas (x 100$m^2$)')\n",
    "plt.ylabel('prices')"
   ]
  }
 ],
 "metadata": {
  "kernelspec": {
   "display_name": ".venv_3.10",
   "language": "python",
   "name": "python3"
  },
  "language_info": {
   "codemirror_mode": {
    "name": "ipython",
    "version": 3
   },
   "file_extension": ".py",
   "mimetype": "text/x-python",
   "name": "python",
   "nbconvert_exporter": "python",
   "pygments_lexer": "ipython3",
   "version": "3.10.9"
  }
 },
 "nbformat": 4,
 "nbformat_minor": 5
}
