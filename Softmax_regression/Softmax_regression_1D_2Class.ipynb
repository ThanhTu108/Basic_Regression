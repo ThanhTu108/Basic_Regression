{
 "cells": [
  {
   "cell_type": "markdown",
   "id": "99537015",
   "metadata": {},
   "source": [
    "# Import library"
   ]
  },
  {
   "cell_type": "code",
   "execution_count": 56,
   "id": "45d279b0",
   "metadata": {},
   "outputs": [],
   "source": [
    "import numpy as np\n",
    "import matplotlib.pyplot as plt\n",
    "import pandas as pd"
   ]
  },
  {
   "cell_type": "markdown",
   "id": "149a2488",
   "metadata": {},
   "source": [
    "# Load dataset"
   ]
  },
  {
   "cell_type": "code",
   "execution_count": 57,
   "id": "654617b8",
   "metadata": {},
   "outputs": [
    {
     "name": "stdout",
     "output_type": "stream",
     "text": [
      "<class 'numpy.ndarray'>\n"
     ]
    }
   ],
   "source": [
    "df = pd.read_csv('iris_1D_2c.csv')\n",
    "X = df.iloc[:, 0:1].values\n",
    "y = df.iloc[:, -1].values\n",
    "print(type(y))\n",
    "y = y.astype(np.uint8)"
   ]
  },
  {
   "cell_type": "markdown",
   "id": "6ca0bada",
   "metadata": {},
   "source": [
    "## Draw the dataset"
   ]
  },
  {
   "cell_type": "code",
   "execution_count": 58,
   "id": "f5ef1de3",
   "metadata": {},
   "outputs": [
    {
     "data": {
      "image/png": "[encoded data removed]",
      "text/plain": [
       "<Figure size 1000x400 with 1 Axes>"
      ]
     },
     "metadata": {},
     "output_type": "display_data"
    }
   ],
   "source": [
    "plt.figure(figsize=(10,4))\n",
    "plt.scatter(X[y == 0][:, 0], y[y == 0], color='b', label='0')\n",
    "plt.scatter(X[y == 1][:, 0], y[y == 1], color='r', label='1')\n",
    "plt.legend()\n",
    "plt.show()\n",
    "\n"
   ]
  },
  {
   "cell_type": "markdown",
   "id": "8372cc7c",
   "metadata": {},
   "source": [
    "## convert y to one-hot encoding"
   ]
  },
  {
   "cell_type": "code",
   "execution_count": 59,
   "id": "33568552",
   "metadata": {},
   "outputs": [
    {
     "name": "stdout",
     "output_type": "stream",
     "text": [
      "[[1. 0.]\n",
      " [1. 0.]\n",
      " [1. 0.]\n",
      " [0. 1.]\n",
      " [0. 1.]\n",
      " [0. 1.]]\n"
     ]
    }
   ],
   "source": [
    "def convert_one_hot(y, k):\n",
    "    one_hot = np.zeros((len(y), k))\n",
    "    one_hot[np.arange(len(y)), y] = 1\n",
    "    return one_hot\n",
    "\n",
    "y_one_hot = convert_one_hot(y, 2)\n",
    "print(y_one_hot)"
   ]
  },
  {
   "cell_type": "markdown",
   "id": "47edba83",
   "metadata": {},
   "source": [
    "## initialize the parameters/ weights"
   ]
  },
  {
   "cell_type": "code",
   "execution_count": 60,
   "id": "9f68c2b7",
   "metadata": {},
   "outputs": [
    {
     "name": "stdout",
     "output_type": "stream",
     "text": [
      "[[ 0.2]\n",
      " [-0.1]]\n",
      "[[0.1 ]\n",
      " [0.05]]\n"
     ]
    }
   ],
   "source": [
    "N = len(X)\n",
    "w = np.array([[0.2], [-0.1]])\n",
    "b = np.array([[0.1], [0.05]])\n",
    "lr = 0.1\n",
    "losses = []\n",
    "epoch_max = 100\n",
    "print(w)\n",
    "print(b)"
   ]
  },
  {
   "cell_type": "markdown",
   "id": "440b81a2",
   "metadata": {},
   "source": [
    "# Training the model"
   ]
  },
  {
   "cell_type": "code",
   "execution_count": 61,
   "id": "fa3b4494",
   "metadata": {},
   "outputs": [],
   "source": [
    "for epoch in range(epoch_max):\n",
    "    for i in range(N):\n",
    "        xi = X[i]\n",
    "        yi = y_one_hot[i]\n",
    "        # print(yi)\n",
    "        # print(yi.shape)\n",
    "        # print()\n",
    "\n",
    "        yi = yi.reshape(-1, 1)\n",
    "        # print(yi)\n",
    "        # print(yi.shape)\n",
    "        \n",
    "        # compute z\n",
    "        z = xi*w + b\n",
    "            # print(z)\n",
    "        # predict \n",
    "        y_hat = (np.exp(z)) / (np.sum(np.exp(z), axis=0))\n",
    "\n",
    "        # compute loss_funtion\n",
    "        loss = -yi.T.dot(np.log(y_hat))\n",
    "        losses.append(loss[0])\n",
    "        # computte gradient\n",
    "        dw_dl = xi*(y_hat - yi)\n",
    "        db_dl = (y_hat - yi)\n",
    "\n",
    "        # update weight\n",
    "        w = w - lr*dw_dl\n",
    "        b = b - lr*db_dl\n",
    "\n"
   ]
  },
  {
   "cell_type": "markdown",
   "id": "15f43ec4",
   "metadata": {},
   "source": [
    "# visualize"
   ]
  },
  {
   "cell_type": "code",
   "execution_count": 62,
   "id": "98fb770a",
   "metadata": {},
   "outputs": [
    {
     "name": "stdout",
     "output_type": "stream",
     "text": [
      "range(0, 600)\n",
      "[array([0.48550921]), array([0.41768602]), array([0.32978162]), array([2.92015864]), array([0.30062864]), array([0.10364781]), array([1.18032978]), array([0.89231178]), array([0.74070056]), array([0.71221931]), array([0.13731406]), array([0.06568849]), array([1.14178254]), array([0.85670167]), array([0.72609627]), array([0.54588612]), array([0.14232057]), array([0.065528]), array([1.03555517]), array([0.77579192]), array([0.66991683]), array([0.48882495]), array([0.14530615]), array([0.06478045]), array([0.94218516]), array([0.70567725]), array([0.62115601]), array([0.43699253]), array([0.14762999]), array([0.06391493]), array([0.85933338]), array([0.64420805]), array([0.57806641]), array([0.39147428]), array([0.1491891]), array([0.0629164]), array([0.78599089]), array([0.59027867]), array([0.53986386]), array([0.35165866]), array([0.1499603]), array([0.06178992]), array([0.72112675]), array([0.5428757]), array([0.50586315]), array([0.31691631]), array([0.14997341]), array([0.06055046]), array([0.66375023]), array([0.50110085]), array([0.47547879]), array([0.28662858]), array([0.14929633]), array([0.05921847]), array([0.61294179]), array([0.46417176]), array([0.44821422]), array([0.26021521]), array([0.14801956]), array([0.0578163]), array([0.56786921]), array([0.43141504]), array([0.42364991]), array([0.23714939]), array([0.146243]), array([0.05636586]), array([0.52779285]), array([0.40225539]), array([0.40143174]), array([0.21696389]), array([0.14406611]), array([0.05488713]), array([0.49206374]), array([0.37620343]), array([0.38126046]), array([0.19925107]), array([0.14158142]), array([0.05339748]), array([0.46011751]), array([0.35284357]), array([0.36288257]), array([0.18365946]), array([0.13887106]), array([0.05191143]), array([0.43146617]), array([0.33182297]), array([0.34608254]), array([0.16988835]), array([0.13600528]), array([0.05044074]), array([0.40568936]), array([0.31284172]), array([0.33067645]), array([0.15768183]), array([0.13304249]), array([0.04899464]), array([0.38242555]), array([0.29564445]), array([0.31650665]), array([0.14682273]), array([0.1300301]), array([0.04758016]), array([0.36136409]), array([0.28001314]), array([0.30343743]), array([0.137127]), array([0.1270058]), array([0.04620247]), array([0.34223785]), array([0.26576115]), array([0.29135146]), array([0.12843866]), array([0.12399893]), array([0.0448652]), array([0.32481693]), array([0.25272824]), array([0.28014693]), array([0.12062539]), array([0.12103186]), array([0.04357071]), array([0.30890313]), array([0.24077636]), array([0.26973506]), array([0.11357479]), array([0.11812128]), array([0.04232038]), array([0.29432521]), array([0.22978619]), array([0.26003822]), array([0.10719113]), array([0.11527924]), array([0.04111477]), array([0.28093491]), array([0.2196543]), array([0.25098822]), array([0.10139269]), array([0.11251414]), array([0.03995385]), array([0.2686035]), array([0.2102907]), array([0.24252499]), array([0.09610954]), array([0.1098315]), array([0.03883713]), array([0.25721895]), array([0.20161686]), array([0.23459544]), array([0.09128161]), array([0.10723457]), array([0.03776374]), array([0.2466835]), array([0.19356403]), array([0.22715246]), array([0.08685715]), array([0.10472487]), array([0.03673258]), array([0.23691156]), array([0.18607185]), array([0.22015419]), array([0.08279148]), array([0.10230258]), array([0.03574236]), array([0.22782803]), array([0.17908715]), array([0.21356327]), array([0.07904584]), array([0.0999669]), array([0.03479168]), array([0.21936681]), array([0.17256295]), array([0.20734628]), array([0.07558654]), array([0.09771631]), array([0.03387905]), array([0.21146958]), array([0.16645766]), array([0.20147326]), array([0.07238417]), array([0.09554873]), array([0.03300296]), array([0.20408471]), array([0.16073431]), array([0.19591728]), array([0.06941302]), array([0.09346173]), array([0.03216188]), array([0.19716643]), array([0.15535999]), array([0.19065408]), array([0.06665051]), array([0.09145262]), array([0.03135428]), array([0.19067398]), array([0.15030531]), array([0.18566173]), array([0.06407675]), array([0.08951857]), array([0.03057866]), array([0.18457104]), array([0.14554394]), array([0.1809204]), array([0.06167418]), array([0.08765664]), array([0.02983358]), array([0.17882515]), array([0.14105229]), array([0.17641208]), array([0.05942728]), array([0.08586392]), array([0.02911762]), array([0.17340719]), array([0.13680911]), array([0.17212043]), array([0.05732223]), array([0.08413746]), array([0.02842941]), array([0.16829103]), array([0.13279526]), array([0.16803055]), array([0.05534675]), array([0.0824744]), array([0.02776764]), array([0.16345312]), array([0.12899345]), array([0.16412884]), array([0.05348988]), array([0.08087193]), array([0.02713107]), array([0.15887225]), array([0.12538802]), array([0.16040287]), array([0.05174179]), array([0.07932733]), array([0.02651849]), array([0.15452922]), array([0.12196477]), array([0.15684129]), array([0.0500937]), array([0.07783798]), array([0.02592875]), array([0.15040662]), array([0.11871079]), array([0.15343364]), array([0.04853768]), array([0.07640135]), array([0.02536079]), array([0.14648868]), array([0.11561433]), array([0.15017034]), array([0.04706661]), array([0.07501502]), array([0.02481356]), array([0.14276103]), array([0.11266466]), array([0.14704256]), array([0.04567404]), array([0.0736767]), array([0.02428608]), array([0.13921059]), array([0.10985199]), array([0.14404219]), array([0.04435416]), array([0.07238419]), array([0.02377743]), array([0.13582541]), array([0.10716734]), array([0.14116171]), array([0.04310167]), array([0.07113538]), array([0.02328672]), array([0.13259457]), array([0.10460248]), array([0.13839419]), array([0.04191177]), array([0.06992828]), array([0.02281312]), array([0.12950805]), array([0.10214985]), array([0.1357332]), array([0.0407801]), array([0.06876101]), array([0.02235585]), array([0.12655668]), array([0.09980252]), array([0.1331728]), array([0.03970266]), array([0.06763176]), array([0.02191414]), array([0.12373202]), array([0.09755407]), array([0.13070746]), array([0.03867583]), array([0.06653883]), array([0.0214873]), array([0.12102631]), array([0.09539859]), array([0.12833205]), array([0.03769626]), array([0.06548061]), array([0.02107465]), array([0.11843237]), array([0.09333063]), array([0.12604181]), array([0.0367609]), array([0.06445557]), array([0.02067555]), array([0.1159436]), array([0.09134513]), array([0.12383227]), array([0.03586694]), array([0.06346224]), array([0.02028942]), array([0.1135539]), array([0.08943743]), array([0.1216993]), array([0.03501181]), array([0.06249926]), array([0.01991567]), array([0.11125761]), array([0.08760318]), array([0.11963903]), array([0.03419314]), array([0.06156531]), array([0.01955376]), array([0.10904949]), array([0.08583835]), array([0.11764784]), array([0.03340872]), array([0.06065916]), array([0.01920319]), array([0.10692466]), array([0.08413919]), array([0.11572234]), array([0.03265654]), array([0.05977964]), array([0.01886347]), array([0.10487862]), array([0.08250222]), array([0.11385937]), array([0.03193473]), array([0.05892563]), array([0.01853414]), array([0.10290716]), array([0.08092418]), array([0.11205595]), array([0.03124156]), array([0.05809608]), array([0.01821477]), array([0.10100636]), array([0.07940205]), array([0.1103093]), array([0.0305754]), array([0.05728999]), array([0.01790494]), array([0.09917257]), array([0.07793299]), array([0.1086168]), array([0.02993479]), array([0.05650639]), array([0.01760425]), array([0.09740237]), array([0.07651435]), array([0.10697598]), array([0.02931832]), array([0.0557444]), array([0.01731235]), array([0.09569259]), array([0.07514365]), array([0.10538454]), array([0.0287247]), array([0.05500314]), array([0.01702887]), array([0.09404025]), array([0.07381857]), array([0.10384029]), array([0.02815275]), array([0.05428182]), array([0.01675347]), array([0.09244255]), array([0.07253694]), array([0.10234117]), array([0.02760132]), array([0.05357964]), array([0.01648584]), array([0.09089688]), array([0.0712967]), array([0.10088525]), array([0.02706938]), array([0.05289588]), array([0.01622567]), array([0.08940078]), array([0.07009595]), array([0.09947069]), array([0.02655594]), array([0.05222983]), array([0.01597268]), array([0.08795195]), array([0.06893286]), array([0.09809577]), array([0.0260601]), array([0.05158083]), array([0.01572659]), array([0.08654823]), array([0.06780576]), array([0.09675886]), array([0.02558099]), array([0.05094823]), array([0.01548713]), array([0.08518757]), array([0.06671303]), array([0.0954584]), array([0.02511781]), array([0.05033144]), array([0.01525406]), array([0.08386807]), array([0.06565316]), array([0.09419293]), array([0.0246698]), array([0.04972988]), array([0.01502714]), array([0.0825879]), array([0.06462474]), array([0.09296106]), array([0.02423626]), array([0.04914299]), array([0.01480614]), array([0.08134538]), array([0.06362642]), array([0.09176148]), array([0.02381651]), array([0.04857026]), array([0.01459085]), array([0.08013888]), array([0.06265692]), array([0.09059294]), array([0.02340994]), array([0.04801118]), array([0.01438106]), array([0.07896688]), array([0.06171506]), array([0.08945425]), array([0.02301595]), array([0.04746527]), array([0.01417657]), array([0.07782796]), array([0.06079969]), array([0.08834429]), array([0.02263399]), array([0.04693208]), array([0.0139772]), array([0.07672075]), array([0.05990974]), array([0.08726198]), array([0.02226353]), array([0.04641117]), array([0.01378276]), array([0.07564397]), array([0.05904419]), array([0.08620631]), array([0.02190407]), array([0.04590212]), array([0.01359309]), array([0.07459639]), array([0.05820208]), array([0.08517631]), array([0.02155515]), array([0.04540455]), array([0.01340802]), array([0.07357687]), array([0.05738248]), array([0.08417106]), array([0.02121633]), array([0.04491806]), array([0.01322739]), array([0.0725843]), array([0.05658453]), array([0.08318967]), array([0.02088719]), array([0.04444228]), array([0.01305105]), array([0.07161765]), array([0.05580741]), array([0.08223131]), array([0.02056733]), array([0.04397688]), array([0.01287887]), array([0.07067592]), array([0.05505031]), array([0.08129517]), array([0.02025637]), array([0.04352152]), array([0.01271069]), array([0.06975818]), array([0.05431251]), array([0.0803805]), array([0.01995397]), array([0.04307587]), array([0.0125464]), array([0.06886354]), array([0.05359328]), array([0.07948656]), array([0.01965979]), array([0.04263963]), array([0.01238586]), array([0.06799115]), array([0.05289195]), array([0.07861266]), array([0.0193735]), array([0.04221251]), array([0.01222895]), array([0.06714019]), array([0.05220788]), array([0.07775813]), array([0.01909479]), array([0.04179421]), array([0.01207555]), array([0.0663099]), array([0.05154044]), array([0.07692234]), array([0.0188234]), array([0.04138448]), array([0.01192557]), array([0.06549954]), array([0.05088906]), array([0.07610467]), array([0.01855903]), array([0.04098305]), array([0.01177888]), array([0.06470841]), array([0.05025318]), array([0.07530454]), array([0.01830142]), array([0.04058966]), array([0.01163538]), array([0.06393585]), array([0.04963225]), array([0.0745214]), array([0.01805034]), array([0.04020409]), array([0.01149499]), array([0.06318121]), array([0.04902577]), array([0.07375471]), array([0.01780553]), array([0.0398261]), array([0.01135759]), array([0.06244389]), array([0.04843325]), array([0.07300395]), array([0.01756678]), array([0.03945546]), array([0.01122311]), array([0.06172331]), array([0.04785423]), array([0.07226864]), array([0.01733387]), array([0.03909197]), array([0.01109145]), array([0.0610189]), array([0.04728825]), array([0.07154829]), array([0.01710659]), array([0.03873541]), array([0.01096253]), array([0.06033013]), array([0.0467349]), array([0.07084247]), array([0.01688475]), array([0.0383856]), array([0.01083627]), array([0.0596565]), array([0.04619376]), array([0.07015073]), array([0.01666817]), array([0.03804233]), array([0.01071259]), array([0.05899752]), array([0.04566445]), array([0.06947265]), array([0.01645665]), array([0.03770544]), array([0.01059142]), array([0.05835271]), array([0.04514657]), array([0.06880784]), array([0.01625004]), array([0.03737473]), array([0.01047268]), array([0.05772164]), array([0.04463979]), array([0.06815591]), array([0.01604817]), array([0.03705005]), array([0.01035631]), array([0.05710387]), array([0.04414374]), array([0.06751648]), array([0.01585087]), array([0.03673122]), array([0.01024223])]\n"
     ]
    },
    {
     "data": {
      "image/png": "[encoded data removed]",
      "text/plain": [
       "<Figure size 640x480 with 1 Axes>"
      ]
     },
     "metadata": {},
     "output_type": "display_data"
    }
   ],
   "source": [
    "x_axis = range(len(losses))\n",
    "print(x_axis)\n",
    "print(losses)\n",
    "plt.plot(x_axis,losses, color=\"r\")\n",
    "plt.show()"
   ]
  },
  {
   "cell_type": "markdown",
   "id": "ef365ad8",
   "metadata": {},
   "source": [
    "Test"
   ]
  },
  {
   "cell_type": "code",
   "execution_count": 65,
   "id": "e1c19bc6",
   "metadata": {},
   "outputs": [],
   "source": [
    "score = []\n",
    "\n",
    "for i in range(N):\n",
    "    xi = X[i]\n",
    "    yi = y_one_hot[i]\n",
    "    yi = yi.reshape((-1, 1))\n",
    "\n",
    "    z = xi*w + b\n",
    "    score.append(z)"
   ]
  },
  {
   "cell_type": "code",
   "execution_count": 68,
   "id": "d68bb0bd",
   "metadata": {},
   "outputs": [
    {
     "name": "stdout",
     "output_type": "stream",
     "text": [
      "[array([[ 1.56757503],\n",
      "       [-1.27757503]]), array([[ 1.67923788],\n",
      "       [-1.39923788]]), array([[ 1.45591218],\n",
      "       [-1.15591218]]), array([[-1.89397321],\n",
      "       [ 2.49397321]]), array([[-1.44732183],\n",
      "       [ 2.00732183]]), array([[-2.00563606],\n",
      "       [ 2.61563606]])]\n"
     ]
    }
   ],
   "source": [
    "print(score)"
   ]
  },
  {
   "cell_type": "code",
   "execution_count": 71,
   "id": "3a821f13",
   "metadata": {},
   "outputs": [
    {
     "name": "stdout",
     "output_type": "stream",
     "text": [
      "[[0]\n",
      " [0]\n",
      " [0]\n",
      " [1]\n",
      " [1]\n",
      " [1]]\n"
     ]
    }
   ],
   "source": [
    "predict_class = np.argmax(score, axis=1)\n",
    "print(predict_class)"
   ]
  }
 ],
 "metadata": {
  "kernelspec": {
   "display_name": ".venv (3.11.5)",
   "language": "python",
   "name": "python3"
  },
  "language_info": {
   "codemirror_mode": {
    "name": "ipython",
    "version": 3
   },
   "file_extension": ".py",
   "mimetype": "text/x-python",
   "name": "python",
   "nbconvert_exporter": "python",
   "pygments_lexer": "ipython3",
   "version": "3.11.5"
  }
 },
 "nbformat": 4,
 "nbformat_minor": 5
}
